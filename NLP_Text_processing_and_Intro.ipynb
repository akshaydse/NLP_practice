{
 "cells": [
  {
   "cell_type": "code",
   "execution_count": 9,
   "id": "c88c8479",
   "metadata": {},
   "outputs": [
    {
     "name": "stderr",
     "output_type": "stream",
     "text": [
      "[nltk_data] Downloading package punkt to /Users/akshays/nltk_data...\n",
      "[nltk_data]   Package punkt is already up-to-date!\n"
     ]
    },
    {
     "data": {
      "text/plain": [
       "True"
      ]
     },
     "execution_count": 9,
     "metadata": {},
     "output_type": "execute_result"
    }
   ],
   "source": [
    "import os\n",
    "import re \n",
    "import random\n",
    "import string      # for string operations    \n",
    "import pandas as pd\n",
    "import numpy as np     \n",
    "import matplotlib.pyplot as plt \n",
    "from sklearn.model_selection import train_test_split\n",
    "from sklearn.linear_model import LogisticRegression\n",
    "\n",
    "import nltk\n",
    "nltk.download('punkt')"
   ]
  },
  {
   "cell_type": "code",
   "execution_count": 11,
   "id": "a612bd21",
   "metadata": {},
   "outputs": [
    {
     "name": "stdout",
     "output_type": "stream",
     "text": [
      "Collecting gdown\n",
      "  Downloading gdown-4.7.1-py3-none-any.whl (15 kB)\n",
      "Requirement already satisfied: filelock in /Users/akshays/opt/anaconda3/envs/nlp_env/lib/python3.11/site-packages (from gdown) (3.9.0)\n",
      "Requirement already satisfied: requests[socks] in /Users/akshays/opt/anaconda3/envs/nlp_env/lib/python3.11/site-packages (from gdown) (2.29.0)\n",
      "Requirement already satisfied: six in /Users/akshays/opt/anaconda3/envs/nlp_env/lib/python3.11/site-packages (from gdown) (1.16.0)\n",
      "Requirement already satisfied: tqdm in /Users/akshays/opt/anaconda3/envs/nlp_env/lib/python3.11/site-packages (from gdown) (4.65.0)\n",
      "Requirement already satisfied: beautifulsoup4 in /Users/akshays/opt/anaconda3/envs/nlp_env/lib/python3.11/site-packages (from gdown) (4.12.2)\n",
      "Requirement already satisfied: soupsieve>1.2 in /Users/akshays/opt/anaconda3/envs/nlp_env/lib/python3.11/site-packages (from beautifulsoup4->gdown) (2.4)\n",
      "Requirement already satisfied: charset-normalizer<4,>=2 in /Users/akshays/opt/anaconda3/envs/nlp_env/lib/python3.11/site-packages (from requests[socks]->gdown) (2.0.4)\n",
      "Requirement already satisfied: idna<4,>=2.5 in /Users/akshays/opt/anaconda3/envs/nlp_env/lib/python3.11/site-packages (from requests[socks]->gdown) (3.4)\n",
      "Requirement already satisfied: urllib3<1.27,>=1.21.1 in /Users/akshays/opt/anaconda3/envs/nlp_env/lib/python3.11/site-packages (from requests[socks]->gdown) (1.26.16)\n",
      "Requirement already satisfied: certifi>=2017.4.17 in /Users/akshays/opt/anaconda3/envs/nlp_env/lib/python3.11/site-packages (from requests[socks]->gdown) (2023.5.7)\n",
      "Requirement already satisfied: PySocks!=1.5.7,>=1.5.6 in /Users/akshays/opt/anaconda3/envs/nlp_env/lib/python3.11/site-packages (from requests[socks]->gdown) (1.7.1)\n",
      "Installing collected packages: gdown\n",
      "Successfully installed gdown-4.7.1\n",
      "Note: you may need to restart the kernel to use updated packages.\n"
     ]
    }
   ],
   "source": [
    "#pip install gdown"
   ]
  },
  {
   "cell_type": "markdown",
   "id": "243e61af",
   "metadata": {},
   "source": [
    "# Sentiment analysis- Twiter(tweets)"
   ]
  },
  {
   "cell_type": "code",
   "execution_count": 13,
   "id": "31281a43",
   "metadata": {
    "scrolled": true
   },
   "outputs": [
    {
     "name": "stdout",
     "output_type": "stream",
     "text": [
      "Downloading...\n",
      "From: https://drive.google.com/uc?id=11LWo5nagSmC72hOJM9lm2l05sdQxt4rf\n",
      "To: /Users/akshays/Documents/Personal Projects/NLP practivce/NLP_practice/corona_tweets.csv\n",
      "100%|██████████████████████████████████████| 1.00M/1.00M [00:00<00:00, 3.22MB/s]\n"
     ]
    }
   ],
   "source": [
    "!gdown 11LWo5nagSmC72hOJM9lm2l05sdQxt4rf"
   ]
  },
  {
   "cell_type": "code",
   "execution_count": 14,
   "id": "d37ece0b",
   "metadata": {},
   "outputs": [],
   "source": [
    "df = pd.read_csv('corona_tweets.csv')"
   ]
  },
  {
   "cell_type": "code",
   "execution_count": 15,
   "id": "f7153c69",
   "metadata": {},
   "outputs": [
    {
     "data": {
      "text/html": [
       "<div>\n",
       "<style scoped>\n",
       "    .dataframe tbody tr th:only-of-type {\n",
       "        vertical-align: middle;\n",
       "    }\n",
       "\n",
       "    .dataframe tbody tr th {\n",
       "        vertical-align: top;\n",
       "    }\n",
       "\n",
       "    .dataframe thead th {\n",
       "        text-align: right;\n",
       "    }\n",
       "</style>\n",
       "<table border=\"1\" class=\"dataframe\">\n",
       "  <thead>\n",
       "    <tr style=\"text-align: right;\">\n",
       "      <th></th>\n",
       "      <th>UserName</th>\n",
       "      <th>ScreenName</th>\n",
       "      <th>Location</th>\n",
       "      <th>TweetAt</th>\n",
       "      <th>OriginalTweet</th>\n",
       "      <th>Sentiment</th>\n",
       "    </tr>\n",
       "  </thead>\n",
       "  <tbody>\n",
       "    <tr>\n",
       "      <th>0</th>\n",
       "      <td>1</td>\n",
       "      <td>44953</td>\n",
       "      <td>NYC</td>\n",
       "      <td>02-03-2020</td>\n",
       "      <td>TRENDING: New Yorkers encounter empty supermar...</td>\n",
       "      <td>Extremely Negative</td>\n",
       "    </tr>\n",
       "    <tr>\n",
       "      <th>1</th>\n",
       "      <td>2</td>\n",
       "      <td>44954</td>\n",
       "      <td>Seattle, WA</td>\n",
       "      <td>02-03-2020</td>\n",
       "      <td>When I couldn't find hand sanitizer at Fred Me...</td>\n",
       "      <td>Positive</td>\n",
       "    </tr>\n",
       "    <tr>\n",
       "      <th>2</th>\n",
       "      <td>3</td>\n",
       "      <td>44955</td>\n",
       "      <td>NaN</td>\n",
       "      <td>02-03-2020</td>\n",
       "      <td>Find out how you can protect yourself and love...</td>\n",
       "      <td>Extremely Positive</td>\n",
       "    </tr>\n",
       "    <tr>\n",
       "      <th>3</th>\n",
       "      <td>4</td>\n",
       "      <td>44956</td>\n",
       "      <td>Chicagoland</td>\n",
       "      <td>02-03-2020</td>\n",
       "      <td>#Panic buying hits #NewYork City as anxious sh...</td>\n",
       "      <td>Negative</td>\n",
       "    </tr>\n",
       "    <tr>\n",
       "      <th>4</th>\n",
       "      <td>5</td>\n",
       "      <td>44957</td>\n",
       "      <td>Melbourne, Victoria</td>\n",
       "      <td>03-03-2020</td>\n",
       "      <td>#toiletpaper #dunnypaper #coronavirus #coronav...</td>\n",
       "      <td>Neutral</td>\n",
       "    </tr>\n",
       "    <tr>\n",
       "      <th>...</th>\n",
       "      <td>...</td>\n",
       "      <td>...</td>\n",
       "      <td>...</td>\n",
       "      <td>...</td>\n",
       "      <td>...</td>\n",
       "      <td>...</td>\n",
       "    </tr>\n",
       "    <tr>\n",
       "      <th>3793</th>\n",
       "      <td>3794</td>\n",
       "      <td>48746</td>\n",
       "      <td>Israel ??</td>\n",
       "      <td>16-03-2020</td>\n",
       "      <td>Meanwhile In A Supermarket in Israel -- People...</td>\n",
       "      <td>Positive</td>\n",
       "    </tr>\n",
       "    <tr>\n",
       "      <th>3794</th>\n",
       "      <td>3795</td>\n",
       "      <td>48747</td>\n",
       "      <td>Farmington, NM</td>\n",
       "      <td>16-03-2020</td>\n",
       "      <td>Did you panic buy a lot of non-perishable item...</td>\n",
       "      <td>Negative</td>\n",
       "    </tr>\n",
       "    <tr>\n",
       "      <th>3795</th>\n",
       "      <td>3796</td>\n",
       "      <td>48748</td>\n",
       "      <td>Haverford, PA</td>\n",
       "      <td>16-03-2020</td>\n",
       "      <td>Asst Prof of Economics @cconces was on @NBCPhi...</td>\n",
       "      <td>Neutral</td>\n",
       "    </tr>\n",
       "    <tr>\n",
       "      <th>3796</th>\n",
       "      <td>3797</td>\n",
       "      <td>48749</td>\n",
       "      <td>NaN</td>\n",
       "      <td>16-03-2020</td>\n",
       "      <td>Gov need to do somethings instead of biar je r...</td>\n",
       "      <td>Extremely Negative</td>\n",
       "    </tr>\n",
       "    <tr>\n",
       "      <th>3797</th>\n",
       "      <td>3798</td>\n",
       "      <td>48750</td>\n",
       "      <td>Arlington, Virginia</td>\n",
       "      <td>16-03-2020</td>\n",
       "      <td>I and @ForestandPaper members are committed to...</td>\n",
       "      <td>Extremely Positive</td>\n",
       "    </tr>\n",
       "  </tbody>\n",
       "</table>\n",
       "<p>3798 rows × 6 columns</p>\n",
       "</div>"
      ],
      "text/plain": [
       "      UserName  ScreenName             Location     TweetAt  \\\n",
       "0            1       44953                  NYC  02-03-2020   \n",
       "1            2       44954          Seattle, WA  02-03-2020   \n",
       "2            3       44955                  NaN  02-03-2020   \n",
       "3            4       44956          Chicagoland  02-03-2020   \n",
       "4            5       44957  Melbourne, Victoria  03-03-2020   \n",
       "...        ...         ...                  ...         ...   \n",
       "3793      3794       48746            Israel ??  16-03-2020   \n",
       "3794      3795       48747       Farmington, NM  16-03-2020   \n",
       "3795      3796       48748        Haverford, PA  16-03-2020   \n",
       "3796      3797       48749                  NaN  16-03-2020   \n",
       "3797      3798       48750  Arlington, Virginia  16-03-2020   \n",
       "\n",
       "                                          OriginalTweet           Sentiment  \n",
       "0     TRENDING: New Yorkers encounter empty supermar...  Extremely Negative  \n",
       "1     When I couldn't find hand sanitizer at Fred Me...            Positive  \n",
       "2     Find out how you can protect yourself and love...  Extremely Positive  \n",
       "3     #Panic buying hits #NewYork City as anxious sh...            Negative  \n",
       "4     #toiletpaper #dunnypaper #coronavirus #coronav...             Neutral  \n",
       "...                                                 ...                 ...  \n",
       "3793  Meanwhile In A Supermarket in Israel -- People...            Positive  \n",
       "3794  Did you panic buy a lot of non-perishable item...            Negative  \n",
       "3795  Asst Prof of Economics @cconces was on @NBCPhi...             Neutral  \n",
       "3796  Gov need to do somethings instead of biar je r...  Extremely Negative  \n",
       "3797  I and @ForestandPaper members are committed to...  Extremely Positive  \n",
       "\n",
       "[3798 rows x 6 columns]"
      ]
     },
     "execution_count": 15,
     "metadata": {},
     "output_type": "execute_result"
    }
   ],
   "source": [
    "df"
   ]
  },
  {
   "cell_type": "code",
   "execution_count": 17,
   "id": "dc6062d0",
   "metadata": {},
   "outputs": [
    {
     "data": {
      "text/html": [
       "<div>\n",
       "<style scoped>\n",
       "    .dataframe tbody tr th:only-of-type {\n",
       "        vertical-align: middle;\n",
       "    }\n",
       "\n",
       "    .dataframe tbody tr th {\n",
       "        vertical-align: top;\n",
       "    }\n",
       "\n",
       "    .dataframe thead th {\n",
       "        text-align: right;\n",
       "    }\n",
       "</style>\n",
       "<table border=\"1\" class=\"dataframe\">\n",
       "  <thead>\n",
       "    <tr style=\"text-align: right;\">\n",
       "      <th></th>\n",
       "      <th>UserName</th>\n",
       "      <th>ScreenName</th>\n",
       "      <th>Location</th>\n",
       "      <th>TweetAt</th>\n",
       "      <th>OriginalTweet</th>\n",
       "      <th>Sentiment</th>\n",
       "    </tr>\n",
       "  </thead>\n",
       "  <tbody>\n",
       "    <tr>\n",
       "      <th>count</th>\n",
       "      <td>3798.000000</td>\n",
       "      <td>3798.000000</td>\n",
       "      <td>2964</td>\n",
       "      <td>3798</td>\n",
       "      <td>3798</td>\n",
       "      <td>3798</td>\n",
       "    </tr>\n",
       "    <tr>\n",
       "      <th>unique</th>\n",
       "      <td>NaN</td>\n",
       "      <td>NaN</td>\n",
       "      <td>1717</td>\n",
       "      <td>15</td>\n",
       "      <td>3798</td>\n",
       "      <td>5</td>\n",
       "    </tr>\n",
       "    <tr>\n",
       "      <th>top</th>\n",
       "      <td>NaN</td>\n",
       "      <td>NaN</td>\n",
       "      <td>United States</td>\n",
       "      <td>13-03-2020</td>\n",
       "      <td>TRENDING: New Yorkers encounter empty supermar...</td>\n",
       "      <td>Negative</td>\n",
       "    </tr>\n",
       "    <tr>\n",
       "      <th>freq</th>\n",
       "      <td>NaN</td>\n",
       "      <td>NaN</td>\n",
       "      <td>75</td>\n",
       "      <td>1233</td>\n",
       "      <td>1</td>\n",
       "      <td>1041</td>\n",
       "    </tr>\n",
       "    <tr>\n",
       "      <th>mean</th>\n",
       "      <td>1899.500000</td>\n",
       "      <td>46851.500000</td>\n",
       "      <td>NaN</td>\n",
       "      <td>NaN</td>\n",
       "      <td>NaN</td>\n",
       "      <td>NaN</td>\n",
       "    </tr>\n",
       "    <tr>\n",
       "      <th>std</th>\n",
       "      <td>1096.532489</td>\n",
       "      <td>1096.532489</td>\n",
       "      <td>NaN</td>\n",
       "      <td>NaN</td>\n",
       "      <td>NaN</td>\n",
       "      <td>NaN</td>\n",
       "    </tr>\n",
       "    <tr>\n",
       "      <th>min</th>\n",
       "      <td>1.000000</td>\n",
       "      <td>44953.000000</td>\n",
       "      <td>NaN</td>\n",
       "      <td>NaN</td>\n",
       "      <td>NaN</td>\n",
       "      <td>NaN</td>\n",
       "    </tr>\n",
       "    <tr>\n",
       "      <th>25%</th>\n",
       "      <td>950.250000</td>\n",
       "      <td>45902.250000</td>\n",
       "      <td>NaN</td>\n",
       "      <td>NaN</td>\n",
       "      <td>NaN</td>\n",
       "      <td>NaN</td>\n",
       "    </tr>\n",
       "    <tr>\n",
       "      <th>50%</th>\n",
       "      <td>1899.500000</td>\n",
       "      <td>46851.500000</td>\n",
       "      <td>NaN</td>\n",
       "      <td>NaN</td>\n",
       "      <td>NaN</td>\n",
       "      <td>NaN</td>\n",
       "    </tr>\n",
       "    <tr>\n",
       "      <th>75%</th>\n",
       "      <td>2848.750000</td>\n",
       "      <td>47800.750000</td>\n",
       "      <td>NaN</td>\n",
       "      <td>NaN</td>\n",
       "      <td>NaN</td>\n",
       "      <td>NaN</td>\n",
       "    </tr>\n",
       "    <tr>\n",
       "      <th>max</th>\n",
       "      <td>3798.000000</td>\n",
       "      <td>48750.000000</td>\n",
       "      <td>NaN</td>\n",
       "      <td>NaN</td>\n",
       "      <td>NaN</td>\n",
       "      <td>NaN</td>\n",
       "    </tr>\n",
       "  </tbody>\n",
       "</table>\n",
       "</div>"
      ],
      "text/plain": [
       "           UserName    ScreenName       Location     TweetAt  \\\n",
       "count   3798.000000   3798.000000           2964        3798   \n",
       "unique          NaN           NaN           1717          15   \n",
       "top             NaN           NaN  United States  13-03-2020   \n",
       "freq            NaN           NaN             75        1233   \n",
       "mean    1899.500000  46851.500000            NaN         NaN   \n",
       "std     1096.532489   1096.532489            NaN         NaN   \n",
       "min        1.000000  44953.000000            NaN         NaN   \n",
       "25%      950.250000  45902.250000            NaN         NaN   \n",
       "50%     1899.500000  46851.500000            NaN         NaN   \n",
       "75%     2848.750000  47800.750000            NaN         NaN   \n",
       "max     3798.000000  48750.000000            NaN         NaN   \n",
       "\n",
       "                                            OriginalTweet Sentiment  \n",
       "count                                                3798      3798  \n",
       "unique                                               3798         5  \n",
       "top     TRENDING: New Yorkers encounter empty supermar...  Negative  \n",
       "freq                                                    1      1041  \n",
       "mean                                                  NaN       NaN  \n",
       "std                                                   NaN       NaN  \n",
       "min                                                   NaN       NaN  \n",
       "25%                                                   NaN       NaN  \n",
       "50%                                                   NaN       NaN  \n",
       "75%                                                   NaN       NaN  \n",
       "max                                                   NaN       NaN  "
      ]
     },
     "execution_count": 17,
     "metadata": {},
     "output_type": "execute_result"
    }
   ],
   "source": [
    "df.describe(include='all')"
   ]
  },
  {
   "cell_type": "code",
   "execution_count": 21,
   "id": "622f2d60",
   "metadata": {},
   "outputs": [],
   "source": [
    "df['Sentiment'] = df['Sentiment'].replace('Extremely Positive','Positive' )\n",
    "df['Sentiment'] = df['Sentiment'].replace('Extremely Negative','Negative' )"
   ]
  },
  {
   "cell_type": "code",
   "execution_count": 23,
   "id": "5abcebad",
   "metadata": {},
   "outputs": [
    {
     "data": {
      "text/plain": [
       "Negative    1633\n",
       "Positive    1546\n",
       "Neutral      619\n",
       "Name: Sentiment, dtype: int64"
      ]
     },
     "execution_count": 23,
     "metadata": {},
     "output_type": "execute_result"
    }
   ],
   "source": [
    "df['Sentiment'].value_countsnts()"
   ]
  },
  {
   "cell_type": "code",
   "execution_count": 25,
   "id": "7000372c",
   "metadata": {},
   "outputs": [
    {
     "name": "stdout",
     "output_type": "stream",
     "text": [
      "Size of training dataset:  1993\n",
      "Size of testing dataset:  500\n",
      "\u001b[92m\n",
      "positive in green: \n",
      "\u001b[92mComing back from the grocery store like... #CoronavirusPandemic #Covid_19 #lockdown https://t.co/9AW8hDr8Mo\n",
      "\u001b[91m\n",
      "negative in red: \n",
      "\u001b[91mThe economic effect of Covid-19 will likely reduce global demand for oil and will effect other sectors. Saudi Arabia has forced oil prices down to $30 a barrel as well. \r",
      "\r\n",
      "\r",
      "\r\n",
      "#ahg #finance x #financeservices #coronavirus #oilvscoronavirus #gulfcountires #economy #globaleffect https://t.co/cU77CasWG3\n"
     ]
    }
   ],
   "source": [
    "# Separating positive_tweets and negative_tweets\n",
    "all_positive_tweets = list(df[df['Sentiment'] == 'Positive']['OriginalTweet'].astype(str)) # Making equal positive and negative tweet counts\n",
    "all_negative_tweets = list(df[df['Sentiment'] == 'Negative']['OriginalTweet'].astype(str))[:947]\n",
    "\n",
    "# Splitting training and testing set. 80/20 split\n",
    "positive_train, positive_test = train_test_split(all_positive_tweets, test_size=0.2, random_state=42)\n",
    "negative_train, negative_test = train_test_split(all_negative_tweets, test_size=0.2, random_state=42)\n",
    "\n",
    "print(\"Size of training dataset: \",len(positive_train) + len(negative_train))\n",
    "print(\"Size of testing dataset: \", len(positive_test)  + len(negative_test))\n",
    "\n",
    "# print positive in green\n",
    "print('\\033[92m' + '\\npositive in green: ')\n",
    "print('\\033[92m' + all_positive_tweets[random.randint(0,947)])\n",
    "print('\\033[91m' + '\\nnegative in red: ')\n",
    "# print negative in red\n",
    "print('\\033[91m' + all_negative_tweets[random.randint(0,947)])"
   ]
  },
  {
   "cell_type": "markdown",
   "id": "f5d73596",
   "metadata": {},
   "source": [
    "# Tokenization"
   ]
  },
  {
   "cell_type": "code",
   "execution_count": 27,
   "id": "ce5f0cbc",
   "metadata": {},
   "outputs": [
    {
     "name": "stdout",
     "output_type": "stream",
     "text": [
      "Using Split : ['We', '(@hamiltonpoverty)', 'are', 'calling', 'on', 'Canadian', 'Federal', 'Government', '??', 'to', 'provide', '#BasicIncome', \"'Well-being\", 'and', 'Stimulus', \"Payments'\", 'during', 'current', 'COVID-19', 'situation.', 'A', 'basic', 'income', '(even', 'interim)', 'could', 'help', 'keep', 'people', 'healthy,', 'then', 'revive', 'consumer', 'confidence', 'and', 'spending.', '#CdnPoli', 'https://t.co/wRmkWLhJku']\n"
     ]
    }
   ],
   "source": [
    "# Split on spaces\n",
    "tweet = all_positive_tweets[43] \n",
    "word = tweet.split() # space tokenizer\n",
    "print('Using Split :',word)"
   ]
  },
  {
   "cell_type": "markdown",
   "id": "52c1f094",
   "metadata": {},
   "source": [
    "### Python already has modules for collecting, handling, and processing text data.\n",
    "\n",
    "\n",
    "> **Using Natural Language Toolkit (NLTK) package.**"
   ]
  },
  {
   "cell_type": "code",
   "execution_count": 28,
   "id": "9f2a7790",
   "metadata": {},
   "outputs": [
    {
     "name": "stdout",
     "output_type": "stream",
     "text": [
      "Using NLTK : ['We', '(', '@', 'hamiltonpoverty', ')', 'are', 'calling', 'on', 'Canadian', 'Federal', 'Government', '?', '?', 'to', 'provide', '#', 'BasicIncome', \"'Well-being\", 'and', 'Stimulus', 'Payments', \"'\", 'during', 'current', 'COVID-19', 'situation', '.', 'A', 'basic', 'income', '(', 'even', 'interim', ')', 'could', 'help', 'keep', 'people', 'healthy', ',', 'then', 'revive', 'consumer', 'confidence', 'and', 'spending', '.', '#', 'CdnPoli', 'https', ':', '//t.co/wRmkWLhJku']\n"
     ]
    }
   ],
   "source": [
    "from nltk.tokenize import word_tokenize\n",
    "\n",
    "words = word_tokenize(tweet)\n",
    "print('Using NLTK :',words)"
   ]
  },
  {
   "cell_type": "code",
   "execution_count": 29,
   "id": "fd3743fe",
   "metadata": {},
   "outputs": [],
   "source": [
    "# Python library for NLP\n",
    "from nltk.corpus import twitter_samples    # sample Twitter dataset from NLTK\n",
    "from nltk.corpus import stopwords          # module for stop words that come with NLTK\n",
    "from nltk.stem import PorterStemmer        # module for stemming\n",
    "from nltk.tokenize import TweetTokenizer"
   ]
  },
  {
   "cell_type": "code",
   "execution_count": 30,
   "id": "bb035bdf",
   "metadata": {},
   "outputs": [
    {
     "data": {
      "text/plain": [
       "\"We (@hamiltonpoverty) are calling on Canadian Federal Government ?? to provide #BasicIncome 'Well-being and Stimulus Payments' during current COVID-19 situation. A basic income (even interim) could help keep people healthy, then revive consumer confidence and spending. #CdnPoli https://t.co/wRmkWLhJku\""
      ]
     },
     "execution_count": 30,
     "metadata": {},
     "output_type": "execute_result"
    }
   ],
   "source": [
    "tweet = all_positive_tweets[43] \n",
    "tweet"
   ]
  },
  {
   "cell_type": "code",
   "execution_count": 31,
   "id": "6aaa1f95",
   "metadata": {},
   "outputs": [
    {
     "name": "stdout",
     "output_type": "stream",
     "text": [
      "\u001b[92mWe (@hamiltonpoverty) are calling on Canadian Federal Government ?? to provide #BasicIncome 'Well-being and Stimulus Payments' during current COVID-19 situation. A basic income (even interim) could help keep people healthy, then revive consumer confidence and spending. #CdnPoli https://t.co/wRmkWLhJku\n",
      "\u001b[94m\n",
      "We (@hamiltonpoverty) are calling on Canadian Federal Government ?? to provide BasicIncome 'Well-being and Stimulus Payments' during current COVID-19 situation. A basic income (even interim) could help keep people healthy, then revive consumer confidence and spending. CdnPoli \n"
     ]
    }
   ],
   "source": [
    "# Removing hyperlinks and hashtags\n",
    "\n",
    "print('\\033[92m' + tweet)\n",
    "print('\\033[94m')\n",
    "\n",
    "# remove old style retweet text \"RT\"\n",
    "tweet2 = re.sub(r'^RT[\\s]+', '', tweet)\n",
    "\n",
    "# remove hyperlinks\n",
    "tweet2 = re.sub(r'https?://[^\\s\\n\\r]+', '', tweet2)\n",
    "\n",
    "# remove hashtags\n",
    "# only removing the hash # sign from the word\n",
    "tweet2 = re.sub(r'#', '', tweet2)\n",
    "print(tweet2)"
   ]
  },
  {
   "cell_type": "code",
   "execution_count": 32,
   "id": "f1a319b0",
   "metadata": {},
   "outputs": [
    {
     "name": "stdout",
     "output_type": "stream",
     "text": [
      "\n",
      "\u001b[92mWe (@hamiltonpoverty) are calling on Canadian Federal Government ?? to provide BasicIncome 'Well-being and Stimulus Payments' during current COVID-19 situation. A basic income (even interim) could help keep people healthy, then revive consumer confidence and spending. CdnPoli \n",
      "\u001b[94m\n",
      "\n",
      "Tokenized string:\n",
      "['we', '(', ')', 'are', 'calling', 'on', 'canadian', 'federal', 'government', '?', '?', 'to', 'provide', 'basicincome', \"'\", 'well-being', 'and', 'stimulus', 'payments', \"'\", 'during', 'current', 'covid', '-', '19', 'situation', '.', 'a', 'basic', 'income', '(', 'even', 'interim', ')', 'could', 'help', 'keep', 'people', 'healthy', ',', 'then', 'revive', 'consumer', 'confidence', 'and', 'spending', '.', 'cdnpoli']\n"
     ]
    }
   ],
   "source": [
    "# Tokenizing\n",
    "\n",
    "print()\n",
    "print('\\033[92m' + tweet2)\n",
    "print('\\033[94m')\n",
    "\n",
    "# instantiate tokenizer class\n",
    "tokenizer = TweetTokenizer(preserve_case=False, strip_handles=True,\n",
    "                               reduce_len=True)\n",
    "\n",
    "# tokenize tweets\n",
    "tweet_tokens = tokenizer.tokenize(tweet2)\n",
    "\n",
    "print()\n",
    "print('Tokenized string:')\n",
    "print(tweet_tokens)"
   ]
  },
  {
   "cell_type": "code",
   "execution_count": 33,
   "id": "b441e054",
   "metadata": {},
   "outputs": [
    {
     "name": "stdout",
     "output_type": "stream",
     "text": [
      "Stop words\n",
      "\n",
      "['i', 'me', 'my', 'myself', 'we', 'our', 'ours', 'ourselves', 'you', \"you're\", \"you've\", \"you'll\", \"you'd\", 'your', 'yours', 'yourself', 'yourselves', 'he', 'him', 'his', 'himself', 'she', \"she's\", 'her', 'hers', 'herself', 'it', \"it's\", 'its', 'itself', 'they', 'them', 'their', 'theirs', 'themselves', 'what', 'which', 'who', 'whom', 'this', 'that', \"that'll\", 'these', 'those', 'am', 'is', 'are', 'was', 'were', 'be', 'been', 'being', 'have', 'has', 'had', 'having', 'do', 'does', 'did', 'doing', 'a', 'an', 'the', 'and', 'but', 'if', 'or', 'because', 'as', 'until', 'while', 'of', 'at', 'by', 'for', 'with', 'about', 'against', 'between', 'into', 'through', 'during', 'before', 'after', 'above', 'below', 'to', 'from', 'up', 'down', 'in', 'out', 'on', 'off', 'over', 'under', 'again', 'further', 'then', 'once', 'here', 'there', 'when', 'where', 'why', 'how', 'all', 'any', 'both', 'each', 'few', 'more', 'most', 'other', 'some', 'such', 'no', 'nor', 'not', 'only', 'own', 'same', 'so', 'than', 'too', 'very', 's', 't', 'can', 'will', 'just', 'don', \"don't\", 'should', \"should've\", 'now', 'd', 'll', 'm', 'o', 're', 've', 'y', 'ain', 'aren', \"aren't\", 'couldn', \"couldn't\", 'didn', \"didn't\", 'doesn', \"doesn't\", 'hadn', \"hadn't\", 'hasn', \"hasn't\", 'haven', \"haven't\", 'isn', \"isn't\", 'ma', 'mightn', \"mightn't\", 'mustn', \"mustn't\", 'needn', \"needn't\", 'shan', \"shan't\", 'shouldn', \"shouldn't\", 'wasn', \"wasn't\", 'weren', \"weren't\", 'won', \"won't\", 'wouldn', \"wouldn't\"]\n",
      "\n",
      "Punctuation\n",
      "\n",
      "!\"#$%&'()*+,-./:;<=>?@[\\]^_`{|}~\n"
     ]
    },
    {
     "name": "stderr",
     "output_type": "stream",
     "text": [
      "[nltk_data] Downloading package stopwords to\n",
      "[nltk_data]     /Users/akshays/nltk_data...\n",
      "[nltk_data]   Package stopwords is already up-to-date!\n"
     ]
    }
   ],
   "source": [
    "# Import the english stop words list from NLTK\n",
    "nltk.download(\"stopwords\")\n",
    "stopwords_english = stopwords.words('english') \n",
    "\n",
    "print('Stop words\\n')\n",
    "print(stopwords_english)\n",
    "\n",
    "print('\\nPunctuation\\n')\n",
    "print(string.punctuation)"
   ]
  },
  {
   "cell_type": "code",
   "execution_count": 34,
   "id": "0636e159",
   "metadata": {},
   "outputs": [
    {
     "name": "stdout",
     "output_type": "stream",
     "text": [
      "\n",
      "\u001b[92m\n",
      "['we', '(', ')', 'are', 'calling', 'on', 'canadian', 'federal', 'government', '?', '?', 'to', 'provide', 'basicincome', \"'\", 'well-being', 'and', 'stimulus', 'payments', \"'\", 'during', 'current', 'covid', '-', '19', 'situation', '.', 'a', 'basic', 'income', '(', 'even', 'interim', ')', 'could', 'help', 'keep', 'people', 'healthy', ',', 'then', 'revive', 'consumer', 'confidence', 'and', 'spending', '.', 'cdnpoli']\n",
      "\u001b[94m\n",
      "removed stop words and punctuation:\n",
      "['calling', 'canadian', 'federal', 'government', 'provide', 'basicincome', 'well-being', 'stimulus', 'payments', 'current', 'covid', '19', 'situation', 'basic', 'income', 'even', 'interim', 'could', 'help', 'keep', 'people', 'healthy', 'revive', 'consumer', 'confidence', 'spending', 'cdnpoli']\n"
     ]
    }
   ],
   "source": [
    "print()\n",
    "print('\\033[92m')\n",
    "print(tweet_tokens)\n",
    "print('\\033[94m')\n",
    "\n",
    "tweets_clean = []\n",
    "\n",
    "for word in tweet_tokens: # Go through every word in your tokens list\n",
    "    if (word not in stopwords_english and  # remove stopwords\n",
    "        word not in string.punctuation):  # remove punctuation\n",
    "        tweets_clean.append(word)\n",
    "\n",
    "print('removed stop words and punctuation:')\n",
    "print(tweets_clean)"
   ]
  },
  {
   "cell_type": "code",
   "execution_count": 35,
   "id": "430701f7",
   "metadata": {},
   "outputs": [
    {
     "name": "stdout",
     "output_type": "stream",
     "text": [
      "\n",
      "\u001b[92m\n",
      "['calling', 'canadian', 'federal', 'government', 'provide', 'basicincome', 'well-being', 'stimulus', 'payments', 'current', 'covid', '19', 'situation', 'basic', 'income', 'even', 'interim', 'could', 'help', 'keep', 'people', 'healthy', 'revive', 'consumer', 'confidence', 'spending', 'cdnpoli']\n",
      "\u001b[94m\n",
      "stemmed words:\n",
      "['call', 'canadian', 'feder', 'govern', 'provid', 'basicincom', 'well-b', 'stimulu', 'payment', 'current', 'covid', '19', 'situat', 'basic', 'incom', 'even', 'interim', 'could', 'help', 'keep', 'peopl', 'healthi', 'reviv', 'consum', 'confid', 'spend', 'cdnpoli']\n"
     ]
    }
   ],
   "source": [
    "print()\n",
    "print('\\033[92m')\n",
    "print(tweets_clean)\n",
    "print('\\033[94m')\n",
    "\n",
    "# Instantiate stemming class\n",
    "stemmer = PorterStemmer() \n",
    "\n",
    "# Create an empty list to store the stems\n",
    "tweets_stem = [] \n",
    "\n",
    "for word in tweets_clean:\n",
    "    stem_word = stemmer.stem(word)  # stemming word\n",
    "    tweets_stem.append(stem_word)  # append to the list\n",
    "\n",
    "print('stemmed words:')\n",
    "print(tweets_stem)"
   ]
  },
  {
   "cell_type": "code",
   "execution_count": 36,
   "id": "4154a1c6",
   "metadata": {},
   "outputs": [],
   "source": [
    "def process_tweet(tweet):\n",
    "    stemmer = PorterStemmer()\n",
    "    stopwords_english = stopwords.words('english')\n",
    "    # remove stock market tickers like $GE\n",
    "    tweet = re.sub(r'\\$\\w*', '', tweet)\n",
    "    # remove old style retweet text \"RT\"\n",
    "    tweet = re.sub(r'^RT[\\s]+', '', tweet)\n",
    "    # remove hyperlinks    \n",
    "    tweet = re.sub(r'https?://[^\\s\\n\\r]+', '', tweet)\n",
    "    # remove hashtags\n",
    "    # only removing the hash # sign from the word\n",
    "    tweet = re.sub(r'#', '', tweet)\n",
    "    # tokenize tweets\n",
    "    tokenizer = TweetTokenizer(preserve_case=False, strip_handles=True,\n",
    "                               reduce_len=True)\n",
    "    tweet_tokens = tokenizer.tokenize(tweet)\n",
    "\n",
    "    tweets_clean = []\n",
    "    for word in tweet_tokens:\n",
    "        if (word not in stopwords_english and  # remove stopwords\n",
    "                word not in string.punctuation):  # remove punctuation\n",
    "            # tweets_clean.append(word)\n",
    "            stem_word = stemmer.stem(word)  # stemming word\n",
    "            tweets_clean.append(stem_word)\n",
    "\n",
    "    return tweets_clean"
   ]
  },
  {
   "cell_type": "code",
   "execution_count": null,
   "id": "44776939",
   "metadata": {},
   "outputs": [],
   "source": []
  }
 ],
 "metadata": {
  "kernelspec": {
   "display_name": "Python 3 (ipykernel)",
   "language": "python",
   "name": "python3"
  },
  "language_info": {
   "codemirror_mode": {
    "name": "ipython",
    "version": 3
   },
   "file_extension": ".py",
   "mimetype": "text/x-python",
   "name": "python",
   "nbconvert_exporter": "python",
   "pygments_lexer": "ipython3",
   "version": "3.11.4"
  }
 },
 "nbformat": 4,
 "nbformat_minor": 5
}
