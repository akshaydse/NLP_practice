{
 "cells": [
  {
   "cell_type": "code",
   "execution_count": 9,
   "id": "857adfd0",
   "metadata": {},
   "outputs": [
    {
     "name": "stderr",
     "output_type": "stream",
     "text": [
      "[nltk_data] Downloading package punkt to /Users/akshays/nltk_data...\n",
      "[nltk_data]   Package punkt is already up-to-date!\n"
     ]
    },
    {
     "data": {
      "text/plain": [
       "True"
      ]
     },
     "execution_count": 9,
     "metadata": {},
     "output_type": "execute_result"
    }
   ],
   "source": [
    "import os\n",
    "import re \n",
    "import random\n",
    "import string      # for string operations    \n",
    "import pandas as pd\n",
    "import numpy as np     \n",
    "import matplotlib.pyplot as plt \n",
    "from sklearn.model_selection import train_test_split\n",
    "from sklearn.linear_model import LogisticRegression\n",
    "\n",
    "import nltk\n",
    "nltk.download('punkt')"
   ]
  },
  {
   "cell_type": "code",
   "execution_count": 11,
   "id": "ec48aa86",
   "metadata": {},
   "outputs": [
    {
     "name": "stdout",
     "output_type": "stream",
     "text": [
      "Collecting gdown\n",
      "  Downloading gdown-4.7.1-py3-none-any.whl (15 kB)\n",
      "Requirement already satisfied: filelock in /Users/akshays/opt/anaconda3/envs/nlp_env/lib/python3.11/site-packages (from gdown) (3.9.0)\n",
      "Requirement already satisfied: requests[socks] in /Users/akshays/opt/anaconda3/envs/nlp_env/lib/python3.11/site-packages (from gdown) (2.29.0)\n",
      "Requirement already satisfied: six in /Users/akshays/opt/anaconda3/envs/nlp_env/lib/python3.11/site-packages (from gdown) (1.16.0)\n",
      "Requirement already satisfied: tqdm in /Users/akshays/opt/anaconda3/envs/nlp_env/lib/python3.11/site-packages (from gdown) (4.65.0)\n",
      "Requirement already satisfied: beautifulsoup4 in /Users/akshays/opt/anaconda3/envs/nlp_env/lib/python3.11/site-packages (from gdown) (4.12.2)\n",
      "Requirement already satisfied: soupsieve>1.2 in /Users/akshays/opt/anaconda3/envs/nlp_env/lib/python3.11/site-packages (from beautifulsoup4->gdown) (2.4)\n",
      "Requirement already satisfied: charset-normalizer<4,>=2 in /Users/akshays/opt/anaconda3/envs/nlp_env/lib/python3.11/site-packages (from requests[socks]->gdown) (2.0.4)\n",
      "Requirement already satisfied: idna<4,>=2.5 in /Users/akshays/opt/anaconda3/envs/nlp_env/lib/python3.11/site-packages (from requests[socks]->gdown) (3.4)\n",
      "Requirement already satisfied: urllib3<1.27,>=1.21.1 in /Users/akshays/opt/anaconda3/envs/nlp_env/lib/python3.11/site-packages (from requests[socks]->gdown) (1.26.16)\n",
      "Requirement already satisfied: certifi>=2017.4.17 in /Users/akshays/opt/anaconda3/envs/nlp_env/lib/python3.11/site-packages (from requests[socks]->gdown) (2023.5.7)\n",
      "Requirement already satisfied: PySocks!=1.5.7,>=1.5.6 in /Users/akshays/opt/anaconda3/envs/nlp_env/lib/python3.11/site-packages (from requests[socks]->gdown) (1.7.1)\n",
      "Installing collected packages: gdown\n",
      "Successfully installed gdown-4.7.1\n",
      "Note: you may need to restart the kernel to use updated packages.\n"
     ]
    }
   ],
   "source": [
    "#pip install gdown"
   ]
  },
  {
   "cell_type": "markdown",
   "id": "d7c6dd16",
   "metadata": {},
   "source": [
    "# Sentiment analysis- Twiter(tweets)"
   ]
  },
  {
   "cell_type": "code",
   "execution_count": 13,
   "id": "b83c9c7c",
   "metadata": {
    "scrolled": true
   },
   "outputs": [
    {
     "name": "stdout",
     "output_type": "stream",
     "text": [
      "Downloading...\n",
      "From: https://drive.google.com/uc?id=11LWo5nagSmC72hOJM9lm2l05sdQxt4rf\n",
      "To: /Users/akshays/Documents/Personal Projects/NLP practivce/NLP_practice/corona_tweets.csv\n",
      "100%|██████████████████████████████████████| 1.00M/1.00M [00:00<00:00, 3.22MB/s]\n"
     ]
    }
   ],
   "source": [
    "!gdown 11LWo5nagSmC72hOJM9lm2l05sdQxt4rf"
   ]
  },
  {
   "cell_type": "code",
   "execution_count": 14,
   "id": "d85c4bb2",
   "metadata": {},
   "outputs": [],
   "source": [
    "df = pd.read_csv('corona_tweets.csv')"
   ]
  },
  {
   "cell_type": "code",
   "execution_count": 15,
   "id": "2d4187ef",
   "metadata": {},
   "outputs": [
    {
     "data": {
      "text/html": [
       "<div>\n",
       "<style scoped>\n",
       "    .dataframe tbody tr th:only-of-type {\n",
       "        vertical-align: middle;\n",
       "    }\n",
       "\n",
       "    .dataframe tbody tr th {\n",
       "        vertical-align: top;\n",
       "    }\n",
       "\n",
       "    .dataframe thead th {\n",
       "        text-align: right;\n",
       "    }\n",
       "</style>\n",
       "<table border=\"1\" class=\"dataframe\">\n",
       "  <thead>\n",
       "    <tr style=\"text-align: right;\">\n",
       "      <th></th>\n",
       "      <th>UserName</th>\n",
       "      <th>ScreenName</th>\n",
       "      <th>Location</th>\n",
       "      <th>TweetAt</th>\n",
       "      <th>OriginalTweet</th>\n",
       "      <th>Sentiment</th>\n",
       "    </tr>\n",
       "  </thead>\n",
       "  <tbody>\n",
       "    <tr>\n",
       "      <th>0</th>\n",
       "      <td>1</td>\n",
       "      <td>44953</td>\n",
       "      <td>NYC</td>\n",
       "      <td>02-03-2020</td>\n",
       "      <td>TRENDING: New Yorkers encounter empty supermar...</td>\n",
       "      <td>Extremely Negative</td>\n",
       "    </tr>\n",
       "    <tr>\n",
       "      <th>1</th>\n",
       "      <td>2</td>\n",
       "      <td>44954</td>\n",
       "      <td>Seattle, WA</td>\n",
       "      <td>02-03-2020</td>\n",
       "      <td>When I couldn't find hand sanitizer at Fred Me...</td>\n",
       "      <td>Positive</td>\n",
       "    </tr>\n",
       "    <tr>\n",
       "      <th>2</th>\n",
       "      <td>3</td>\n",
       "      <td>44955</td>\n",
       "      <td>NaN</td>\n",
       "      <td>02-03-2020</td>\n",
       "      <td>Find out how you can protect yourself and love...</td>\n",
       "      <td>Extremely Positive</td>\n",
       "    </tr>\n",
       "    <tr>\n",
       "      <th>3</th>\n",
       "      <td>4</td>\n",
       "      <td>44956</td>\n",
       "      <td>Chicagoland</td>\n",
       "      <td>02-03-2020</td>\n",
       "      <td>#Panic buying hits #NewYork City as anxious sh...</td>\n",
       "      <td>Negative</td>\n",
       "    </tr>\n",
       "    <tr>\n",
       "      <th>4</th>\n",
       "      <td>5</td>\n",
       "      <td>44957</td>\n",
       "      <td>Melbourne, Victoria</td>\n",
       "      <td>03-03-2020</td>\n",
       "      <td>#toiletpaper #dunnypaper #coronavirus #coronav...</td>\n",
       "      <td>Neutral</td>\n",
       "    </tr>\n",
       "    <tr>\n",
       "      <th>...</th>\n",
       "      <td>...</td>\n",
       "      <td>...</td>\n",
       "      <td>...</td>\n",
       "      <td>...</td>\n",
       "      <td>...</td>\n",
       "      <td>...</td>\n",
       "    </tr>\n",
       "    <tr>\n",
       "      <th>3793</th>\n",
       "      <td>3794</td>\n",
       "      <td>48746</td>\n",
       "      <td>Israel ??</td>\n",
       "      <td>16-03-2020</td>\n",
       "      <td>Meanwhile In A Supermarket in Israel -- People...</td>\n",
       "      <td>Positive</td>\n",
       "    </tr>\n",
       "    <tr>\n",
       "      <th>3794</th>\n",
       "      <td>3795</td>\n",
       "      <td>48747</td>\n",
       "      <td>Farmington, NM</td>\n",
       "      <td>16-03-2020</td>\n",
       "      <td>Did you panic buy a lot of non-perishable item...</td>\n",
       "      <td>Negative</td>\n",
       "    </tr>\n",
       "    <tr>\n",
       "      <th>3795</th>\n",
       "      <td>3796</td>\n",
       "      <td>48748</td>\n",
       "      <td>Haverford, PA</td>\n",
       "      <td>16-03-2020</td>\n",
       "      <td>Asst Prof of Economics @cconces was on @NBCPhi...</td>\n",
       "      <td>Neutral</td>\n",
       "    </tr>\n",
       "    <tr>\n",
       "      <th>3796</th>\n",
       "      <td>3797</td>\n",
       "      <td>48749</td>\n",
       "      <td>NaN</td>\n",
       "      <td>16-03-2020</td>\n",
       "      <td>Gov need to do somethings instead of biar je r...</td>\n",
       "      <td>Extremely Negative</td>\n",
       "    </tr>\n",
       "    <tr>\n",
       "      <th>3797</th>\n",
       "      <td>3798</td>\n",
       "      <td>48750</td>\n",
       "      <td>Arlington, Virginia</td>\n",
       "      <td>16-03-2020</td>\n",
       "      <td>I and @ForestandPaper members are committed to...</td>\n",
       "      <td>Extremely Positive</td>\n",
       "    </tr>\n",
       "  </tbody>\n",
       "</table>\n",
       "<p>3798 rows × 6 columns</p>\n",
       "</div>"
      ],
      "text/plain": [
       "      UserName  ScreenName             Location     TweetAt  \\\n",
       "0            1       44953                  NYC  02-03-2020   \n",
       "1            2       44954          Seattle, WA  02-03-2020   \n",
       "2            3       44955                  NaN  02-03-2020   \n",
       "3            4       44956          Chicagoland  02-03-2020   \n",
       "4            5       44957  Melbourne, Victoria  03-03-2020   \n",
       "...        ...         ...                  ...         ...   \n",
       "3793      3794       48746            Israel ??  16-03-2020   \n",
       "3794      3795       48747       Farmington, NM  16-03-2020   \n",
       "3795      3796       48748        Haverford, PA  16-03-2020   \n",
       "3796      3797       48749                  NaN  16-03-2020   \n",
       "3797      3798       48750  Arlington, Virginia  16-03-2020   \n",
       "\n",
       "                                          OriginalTweet           Sentiment  \n",
       "0     TRENDING: New Yorkers encounter empty supermar...  Extremely Negative  \n",
       "1     When I couldn't find hand sanitizer at Fred Me...            Positive  \n",
       "2     Find out how you can protect yourself and love...  Extremely Positive  \n",
       "3     #Panic buying hits #NewYork City as anxious sh...            Negative  \n",
       "4     #toiletpaper #dunnypaper #coronavirus #coronav...             Neutral  \n",
       "...                                                 ...                 ...  \n",
       "3793  Meanwhile In A Supermarket in Israel -- People...            Positive  \n",
       "3794  Did you panic buy a lot of non-perishable item...            Negative  \n",
       "3795  Asst Prof of Economics @cconces was on @NBCPhi...             Neutral  \n",
       "3796  Gov need to do somethings instead of biar je r...  Extremely Negative  \n",
       "3797  I and @ForestandPaper members are committed to...  Extremely Positive  \n",
       "\n",
       "[3798 rows x 6 columns]"
      ]
     },
     "execution_count": 15,
     "metadata": {},
     "output_type": "execute_result"
    }
   ],
   "source": [
    "df"
   ]
  },
  {
   "cell_type": "code",
   "execution_count": 17,
   "id": "b3a0ed34",
   "metadata": {},
   "outputs": [
    {
     "data": {
      "text/html": [
       "<div>\n",
       "<style scoped>\n",
       "    .dataframe tbody tr th:only-of-type {\n",
       "        vertical-align: middle;\n",
       "    }\n",
       "\n",
       "    .dataframe tbody tr th {\n",
       "        vertical-align: top;\n",
       "    }\n",
       "\n",
       "    .dataframe thead th {\n",
       "        text-align: right;\n",
       "    }\n",
       "</style>\n",
       "<table border=\"1\" class=\"dataframe\">\n",
       "  <thead>\n",
       "    <tr style=\"text-align: right;\">\n",
       "      <th></th>\n",
       "      <th>UserName</th>\n",
       "      <th>ScreenName</th>\n",
       "      <th>Location</th>\n",
       "      <th>TweetAt</th>\n",
       "      <th>OriginalTweet</th>\n",
       "      <th>Sentiment</th>\n",
       "    </tr>\n",
       "  </thead>\n",
       "  <tbody>\n",
       "    <tr>\n",
       "      <th>count</th>\n",
       "      <td>3798.000000</td>\n",
       "      <td>3798.000000</td>\n",
       "      <td>2964</td>\n",
       "      <td>3798</td>\n",
       "      <td>3798</td>\n",
       "      <td>3798</td>\n",
       "    </tr>\n",
       "    <tr>\n",
       "      <th>unique</th>\n",
       "      <td>NaN</td>\n",
       "      <td>NaN</td>\n",
       "      <td>1717</td>\n",
       "      <td>15</td>\n",
       "      <td>3798</td>\n",
       "      <td>5</td>\n",
       "    </tr>\n",
       "    <tr>\n",
       "      <th>top</th>\n",
       "      <td>NaN</td>\n",
       "      <td>NaN</td>\n",
       "      <td>United States</td>\n",
       "      <td>13-03-2020</td>\n",
       "      <td>TRENDING: New Yorkers encounter empty supermar...</td>\n",
       "      <td>Negative</td>\n",
       "    </tr>\n",
       "    <tr>\n",
       "      <th>freq</th>\n",
       "      <td>NaN</td>\n",
       "      <td>NaN</td>\n",
       "      <td>75</td>\n",
       "      <td>1233</td>\n",
       "      <td>1</td>\n",
       "      <td>1041</td>\n",
       "    </tr>\n",
       "    <tr>\n",
       "      <th>mean</th>\n",
       "      <td>1899.500000</td>\n",
       "      <td>46851.500000</td>\n",
       "      <td>NaN</td>\n",
       "      <td>NaN</td>\n",
       "      <td>NaN</td>\n",
       "      <td>NaN</td>\n",
       "    </tr>\n",
       "    <tr>\n",
       "      <th>std</th>\n",
       "      <td>1096.532489</td>\n",
       "      <td>1096.532489</td>\n",
       "      <td>NaN</td>\n",
       "      <td>NaN</td>\n",
       "      <td>NaN</td>\n",
       "      <td>NaN</td>\n",
       "    </tr>\n",
       "    <tr>\n",
       "      <th>min</th>\n",
       "      <td>1.000000</td>\n",
       "      <td>44953.000000</td>\n",
       "      <td>NaN</td>\n",
       "      <td>NaN</td>\n",
       "      <td>NaN</td>\n",
       "      <td>NaN</td>\n",
       "    </tr>\n",
       "    <tr>\n",
       "      <th>25%</th>\n",
       "      <td>950.250000</td>\n",
       "      <td>45902.250000</td>\n",
       "      <td>NaN</td>\n",
       "      <td>NaN</td>\n",
       "      <td>NaN</td>\n",
       "      <td>NaN</td>\n",
       "    </tr>\n",
       "    <tr>\n",
       "      <th>50%</th>\n",
       "      <td>1899.500000</td>\n",
       "      <td>46851.500000</td>\n",
       "      <td>NaN</td>\n",
       "      <td>NaN</td>\n",
       "      <td>NaN</td>\n",
       "      <td>NaN</td>\n",
       "    </tr>\n",
       "    <tr>\n",
       "      <th>75%</th>\n",
       "      <td>2848.750000</td>\n",
       "      <td>47800.750000</td>\n",
       "      <td>NaN</td>\n",
       "      <td>NaN</td>\n",
       "      <td>NaN</td>\n",
       "      <td>NaN</td>\n",
       "    </tr>\n",
       "    <tr>\n",
       "      <th>max</th>\n",
       "      <td>3798.000000</td>\n",
       "      <td>48750.000000</td>\n",
       "      <td>NaN</td>\n",
       "      <td>NaN</td>\n",
       "      <td>NaN</td>\n",
       "      <td>NaN</td>\n",
       "    </tr>\n",
       "  </tbody>\n",
       "</table>\n",
       "</div>"
      ],
      "text/plain": [
       "           UserName    ScreenName       Location     TweetAt  \\\n",
       "count   3798.000000   3798.000000           2964        3798   \n",
       "unique          NaN           NaN           1717          15   \n",
       "top             NaN           NaN  United States  13-03-2020   \n",
       "freq            NaN           NaN             75        1233   \n",
       "mean    1899.500000  46851.500000            NaN         NaN   \n",
       "std     1096.532489   1096.532489            NaN         NaN   \n",
       "min        1.000000  44953.000000            NaN         NaN   \n",
       "25%      950.250000  45902.250000            NaN         NaN   \n",
       "50%     1899.500000  46851.500000            NaN         NaN   \n",
       "75%     2848.750000  47800.750000            NaN         NaN   \n",
       "max     3798.000000  48750.000000            NaN         NaN   \n",
       "\n",
       "                                            OriginalTweet Sentiment  \n",
       "count                                                3798      3798  \n",
       "unique                                               3798         5  \n",
       "top     TRENDING: New Yorkers encounter empty supermar...  Negative  \n",
       "freq                                                    1      1041  \n",
       "mean                                                  NaN       NaN  \n",
       "std                                                   NaN       NaN  \n",
       "min                                                   NaN       NaN  \n",
       "25%                                                   NaN       NaN  \n",
       "50%                                                   NaN       NaN  \n",
       "75%                                                   NaN       NaN  \n",
       "max                                                   NaN       NaN  "
      ]
     },
     "execution_count": 17,
     "metadata": {},
     "output_type": "execute_result"
    }
   ],
   "source": [
    "df.describe(include='all')"
   ]
  },
  {
   "cell_type": "code",
   "execution_count": 21,
   "id": "6fa45daa",
   "metadata": {},
   "outputs": [],
   "source": [
    "df['Sentiment'] = df['Sentiment'].replace('Extremely Positive','Positive' )\n",
    "df['Sentiment'] = df['Sentiment'].replace('Extremely Negative','Negative' )"
   ]
  },
  {
   "cell_type": "code",
   "execution_count": 23,
   "id": "d3b92078",
   "metadata": {},
   "outputs": [
    {
     "data": {
      "text/plain": [
       "Negative    1633\n",
       "Positive    1546\n",
       "Neutral      619\n",
       "Name: Sentiment, dtype: int64"
      ]
     },
     "execution_count": 23,
     "metadata": {},
     "output_type": "execute_result"
    }
   ],
   "source": [
    "df['Sentiment'].value_countsnts()"
   ]
  },
  {
   "cell_type": "code",
   "execution_count": 25,
   "id": "79ff3aa1",
   "metadata": {},
   "outputs": [
    {
     "name": "stdout",
     "output_type": "stream",
     "text": [
      "Size of training dataset:  1993\n",
      "Size of testing dataset:  500\n",
      "\u001b[92m\n",
      "positive in green: \n",
      "\u001b[92mComing back from the grocery store like... #CoronavirusPandemic #Covid_19 #lockdown https://t.co/9AW8hDr8Mo\n",
      "\u001b[91m\n",
      "negative in red: \n",
      "\u001b[91mThe economic effect of Covid-19 will likely reduce global demand for oil and will effect other sectors. Saudi Arabia has forced oil prices down to $30 a barrel as well. \r",
      "\r\n",
      "\r",
      "\r\n",
      "#ahg #finance x #financeservices #coronavirus #oilvscoronavirus #gulfcountires #economy #globaleffect https://t.co/cU77CasWG3\n"
     ]
    }
   ],
   "source": [
    "# Separating positive_tweets and negative_tweets\n",
    "all_positive_tweets = list(df[df['Sentiment'] == 'Positive']['OriginalTweet'].astype(str)) # Making equal positive and negative tweet counts\n",
    "all_negative_tweets = list(df[df['Sentiment'] == 'Negative']['OriginalTweet'].astype(str))[:947]\n",
    "\n",
    "# Splitting training and testing set. 80/20 split\n",
    "positive_train, positive_test = train_test_split(all_positive_tweets, test_size=0.2, random_state=42)\n",
    "negative_train, negative_test = train_test_split(all_negative_tweets, test_size=0.2, random_state=42)\n",
    "\n",
    "print(\"Size of training dataset: \",len(positive_train) + len(negative_train))\n",
    "print(\"Size of testing dataset: \", len(positive_test)  + len(negative_test))\n",
    "\n",
    "# print positive in green\n",
    "print('\\033[92m' + '\\npositive in green: ')\n",
    "print('\\033[92m' + all_positive_tweets[random.randint(0,947)])\n",
    "print('\\033[91m' + '\\nnegative in red: ')\n",
    "# print negative in red\n",
    "print('\\033[91m' + all_negative_tweets[random.randint(0,947)])"
   ]
  },
  {
   "cell_type": "markdown",
   "id": "b6c5bd53",
   "metadata": {},
   "source": [
    "# Tokenization"
   ]
  },
  {
   "cell_type": "code",
   "execution_count": 27,
   "id": "c0925c55",
   "metadata": {},
   "outputs": [
    {
     "name": "stdout",
     "output_type": "stream",
     "text": [
      "Using Split : ['We', '(@hamiltonpoverty)', 'are', 'calling', 'on', 'Canadian', 'Federal', 'Government', '??', 'to', 'provide', '#BasicIncome', \"'Well-being\", 'and', 'Stimulus', \"Payments'\", 'during', 'current', 'COVID-19', 'situation.', 'A', 'basic', 'income', '(even', 'interim)', 'could', 'help', 'keep', 'people', 'healthy,', 'then', 'revive', 'consumer', 'confidence', 'and', 'spending.', '#CdnPoli', 'https://t.co/wRmkWLhJku']\n"
     ]
    }
   ],
   "source": [
    "# Split on spaces\n",
    "tweet = all_positive_tweets[43] \n",
    "word = tweet.split() # space tokenizer\n",
    "print('Using Split :',word)"
   ]
  },
  {
   "cell_type": "markdown",
   "id": "6a828c83",
   "metadata": {},
   "source": [
    "### Python already has modules for collecting, handling, and processing text data.\n",
    "\n",
    "\n",
    "> **Using Natural Language Toolkit (NLTK) package.**"
   ]
  },
  {
   "cell_type": "code",
   "execution_count": 28,
   "id": "41392655",
   "metadata": {},
   "outputs": [
    {
     "name": "stdout",
     "output_type": "stream",
     "text": [
      "Using NLTK : ['We', '(', '@', 'hamiltonpoverty', ')', 'are', 'calling', 'on', 'Canadian', 'Federal', 'Government', '?', '?', 'to', 'provide', '#', 'BasicIncome', \"'Well-being\", 'and', 'Stimulus', 'Payments', \"'\", 'during', 'current', 'COVID-19', 'situation', '.', 'A', 'basic', 'income', '(', 'even', 'interim', ')', 'could', 'help', 'keep', 'people', 'healthy', ',', 'then', 'revive', 'consumer', 'confidence', 'and', 'spending', '.', '#', 'CdnPoli', 'https', ':', '//t.co/wRmkWLhJku']\n"
     ]
    }
   ],
   "source": [
    "from nltk.tokenize import word_tokenize\n",
    "\n",
    "words = word_tokenize(tweet)\n",
    "print('Using NLTK :',words)"
   ]
  },
  {
   "cell_type": "code",
   "execution_count": 29,
   "id": "a7be2a60",
   "metadata": {},
   "outputs": [],
   "source": [
    "# Python library for NLP\n",
    "from nltk.corpus import twitter_samples    # sample Twitter dataset from NLTK\n",
    "from nltk.corpus import stopwords          # module for stop words that come with NLTK\n",
    "from nltk.stem import PorterStemmer        # module for stemming\n",
    "from nltk.tokenize import TweetTokenizer"
   ]
  },
  {
   "cell_type": "code",
   "execution_count": 30,
   "id": "f2df20d4",
   "metadata": {},
   "outputs": [
    {
     "data": {
      "text/plain": [
       "\"We (@hamiltonpoverty) are calling on Canadian Federal Government ?? to provide #BasicIncome 'Well-being and Stimulus Payments' during current COVID-19 situation. A basic income (even interim) could help keep people healthy, then revive consumer confidence and spending. #CdnPoli https://t.co/wRmkWLhJku\""
      ]
     },
     "execution_count": 30,
     "metadata": {},
     "output_type": "execute_result"
    }
   ],
   "source": [
    "tweet = all_positive_tweets[43] \n",
    "tweet"
   ]
  },
  {
   "cell_type": "code",
   "execution_count": 31,
   "id": "1d4bfc70",
   "metadata": {},
   "outputs": [
    {
     "name": "stdout",
     "output_type": "stream",
     "text": [
      "\u001b[92mWe (@hamiltonpoverty) are calling on Canadian Federal Government ?? to provide #BasicIncome 'Well-being and Stimulus Payments' during current COVID-19 situation. A basic income (even interim) could help keep people healthy, then revive consumer confidence and spending. #CdnPoli https://t.co/wRmkWLhJku\n",
      "\u001b[94m\n",
      "We (@hamiltonpoverty) are calling on Canadian Federal Government ?? to provide BasicIncome 'Well-being and Stimulus Payments' during current COVID-19 situation. A basic income (even interim) could help keep people healthy, then revive consumer confidence and spending. CdnPoli \n"
     ]
    }
   ],
   "source": [
    "# Removing hyperlinks and hashtags\n",
    "\n",
    "print('\\033[92m' + tweet)\n",
    "print('\\033[94m')\n",
    "\n",
    "# remove old style retweet text \"RT\"\n",
    "tweet2 = re.sub(r'^RT[\\s]+', '', tweet)\n",
    "\n",
    "# remove hyperlinks\n",
    "tweet2 = re.sub(r'https?://[^\\s\\n\\r]+', '', tweet2)\n",
    "\n",
    "# remove hashtags\n",
    "# only removing the hash # sign from the word\n",
    "tweet2 = re.sub(r'#', '', tweet2)\n",
    "print(tweet2)"
   ]
  },
  {
   "cell_type": "code",
   "execution_count": 32,
   "id": "e61eca5c",
   "metadata": {},
   "outputs": [
    {
     "name": "stdout",
     "output_type": "stream",
     "text": [
      "\n",
      "\u001b[92mWe (@hamiltonpoverty) are calling on Canadian Federal Government ?? to provide BasicIncome 'Well-being and Stimulus Payments' during current COVID-19 situation. A basic income (even interim) could help keep people healthy, then revive consumer confidence and spending. CdnPoli \n",
      "\u001b[94m\n",
      "\n",
      "Tokenized string:\n",
      "['we', '(', ')', 'are', 'calling', 'on', 'canadian', 'federal', 'government', '?', '?', 'to', 'provide', 'basicincome', \"'\", 'well-being', 'and', 'stimulus', 'payments', \"'\", 'during', 'current', 'covid', '-', '19', 'situation', '.', 'a', 'basic', 'income', '(', 'even', 'interim', ')', 'could', 'help', 'keep', 'people', 'healthy', ',', 'then', 'revive', 'consumer', 'confidence', 'and', 'spending', '.', 'cdnpoli']\n"
     ]
    }
   ],
   "source": [
    "# Tokenizing\n",
    "\n",
    "print()\n",
    "print('\\033[92m' + tweet2)\n",
    "print('\\033[94m')\n",
    "\n",
    "# instantiate tokenizer class\n",
    "tokenizer = TweetTokenizer(preserve_case=False, strip_handles=True,\n",
    "                               reduce_len=True)\n",
    "\n",
    "# tokenize tweets\n",
    "tweet_tokens = tokenizer.tokenize(tweet2)\n",
    "\n",
    "print()\n",
    "print('Tokenized string:')\n",
    "print(tweet_tokens)"
   ]
  },
  {
   "cell_type": "code",
   "execution_count": 33,
   "id": "c559ca4a",
   "metadata": {},
   "outputs": [
    {
     "name": "stdout",
     "output_type": "stream",
     "text": [
      "Stop words\n",
      "\n",
      "['i', 'me', 'my', 'myself', 'we', 'our', 'ours', 'ourselves', 'you', \"you're\", \"you've\", \"you'll\", \"you'd\", 'your', 'yours', 'yourself', 'yourselves', 'he', 'him', 'his', 'himself', 'she', \"she's\", 'her', 'hers', 'herself', 'it', \"it's\", 'its', 'itself', 'they', 'them', 'their', 'theirs', 'themselves', 'what', 'which', 'who', 'whom', 'this', 'that', \"that'll\", 'these', 'those', 'am', 'is', 'are', 'was', 'were', 'be', 'been', 'being', 'have', 'has', 'had', 'having', 'do', 'does', 'did', 'doing', 'a', 'an', 'the', 'and', 'but', 'if', 'or', 'because', 'as', 'until', 'while', 'of', 'at', 'by', 'for', 'with', 'about', 'against', 'between', 'into', 'through', 'during', 'before', 'after', 'above', 'below', 'to', 'from', 'up', 'down', 'in', 'out', 'on', 'off', 'over', 'under', 'again', 'further', 'then', 'once', 'here', 'there', 'when', 'where', 'why', 'how', 'all', 'any', 'both', 'each', 'few', 'more', 'most', 'other', 'some', 'such', 'no', 'nor', 'not', 'only', 'own', 'same', 'so', 'than', 'too', 'very', 's', 't', 'can', 'will', 'just', 'don', \"don't\", 'should', \"should've\", 'now', 'd', 'll', 'm', 'o', 're', 've', 'y', 'ain', 'aren', \"aren't\", 'couldn', \"couldn't\", 'didn', \"didn't\", 'doesn', \"doesn't\", 'hadn', \"hadn't\", 'hasn', \"hasn't\", 'haven', \"haven't\", 'isn', \"isn't\", 'ma', 'mightn', \"mightn't\", 'mustn', \"mustn't\", 'needn', \"needn't\", 'shan', \"shan't\", 'shouldn', \"shouldn't\", 'wasn', \"wasn't\", 'weren', \"weren't\", 'won', \"won't\", 'wouldn', \"wouldn't\"]\n",
      "\n",
      "Punctuation\n",
      "\n",
      "!\"#$%&'()*+,-./:;<=>?@[\\]^_`{|}~\n"
     ]
    },
    {
     "name": "stderr",
     "output_type": "stream",
     "text": [
      "[nltk_data] Downloading package stopwords to\n",
      "[nltk_data]     /Users/akshays/nltk_data...\n",
      "[nltk_data]   Package stopwords is already up-to-date!\n"
     ]
    }
   ],
   "source": [
    "# Import the english stop words list from NLTK\n",
    "nltk.download(\"stopwords\")\n",
    "stopwords_english = stopwords.words('english') \n",
    "\n",
    "print('Stop words\\n')\n",
    "print(stopwords_english)\n",
    "\n",
    "print('\\nPunctuation\\n')\n",
    "print(string.punctuation)"
   ]
  },
  {
   "cell_type": "code",
   "execution_count": 34,
   "id": "d5717e10",
   "metadata": {},
   "outputs": [
    {
     "name": "stdout",
     "output_type": "stream",
     "text": [
      "\n",
      "\u001b[92m\n",
      "['we', '(', ')', 'are', 'calling', 'on', 'canadian', 'federal', 'government', '?', '?', 'to', 'provide', 'basicincome', \"'\", 'well-being', 'and', 'stimulus', 'payments', \"'\", 'during', 'current', 'covid', '-', '19', 'situation', '.', 'a', 'basic', 'income', '(', 'even', 'interim', ')', 'could', 'help', 'keep', 'people', 'healthy', ',', 'then', 'revive', 'consumer', 'confidence', 'and', 'spending', '.', 'cdnpoli']\n",
      "\u001b[94m\n",
      "removed stop words and punctuation:\n",
      "['calling', 'canadian', 'federal', 'government', 'provide', 'basicincome', 'well-being', 'stimulus', 'payments', 'current', 'covid', '19', 'situation', 'basic', 'income', 'even', 'interim', 'could', 'help', 'keep', 'people', 'healthy', 'revive', 'consumer', 'confidence', 'spending', 'cdnpoli']\n"
     ]
    }
   ],
   "source": [
    "print()\n",
    "print('\\033[92m')\n",
    "print(tweet_tokens)\n",
    "print('\\033[94m')\n",
    "\n",
    "tweets_clean = []\n",
    "\n",
    "for word in tweet_tokens: # Go through every word in your tokens list\n",
    "    if (word not in stopwords_english and  # remove stopwords\n",
    "        word not in string.punctuation):  # remove punctuation\n",
    "        tweets_clean.append(word)\n",
    "\n",
    "print('removed stop words and punctuation:')\n",
    "print(tweets_clean)"
   ]
  },
  {
   "cell_type": "code",
   "execution_count": 35,
   "id": "b54f8577",
   "metadata": {},
   "outputs": [
    {
     "name": "stdout",
     "output_type": "stream",
     "text": [
      "\n",
      "\u001b[92m\n",
      "['calling', 'canadian', 'federal', 'government', 'provide', 'basicincome', 'well-being', 'stimulus', 'payments', 'current', 'covid', '19', 'situation', 'basic', 'income', 'even', 'interim', 'could', 'help', 'keep', 'people', 'healthy', 'revive', 'consumer', 'confidence', 'spending', 'cdnpoli']\n",
      "\u001b[94m\n",
      "stemmed words:\n",
      "['call', 'canadian', 'feder', 'govern', 'provid', 'basicincom', 'well-b', 'stimulu', 'payment', 'current', 'covid', '19', 'situat', 'basic', 'incom', 'even', 'interim', 'could', 'help', 'keep', 'peopl', 'healthi', 'reviv', 'consum', 'confid', 'spend', 'cdnpoli']\n"
     ]
    }
   ],
   "source": [
    "print()\n",
    "print('\\033[92m')\n",
    "print(tweets_clean)\n",
    "print('\\033[94m')\n",
    "\n",
    "# Instantiate stemming class\n",
    "stemmer = PorterStemmer() \n",
    "\n",
    "# Create an empty list to store the stems\n",
    "tweets_stem = [] \n",
    "\n",
    "for word in tweets_clean:\n",
    "    stem_word = stemmer.stem(word)  # stemming word\n",
    "    tweets_stem.append(stem_word)  # append to the list\n",
    "\n",
    "print('stemmed words:')\n",
    "print(tweets_stem)"
   ]
  },
  {
   "cell_type": "code",
   "execution_count": 36,
   "id": "9c806463",
   "metadata": {},
   "outputs": [],
   "source": [
    "def process_tweet(tweet):\n",
    "    stemmer = PorterStemmer()\n",
    "    stopwords_english = stopwords.words('english')\n",
    "    # remove stock market tickers like $GE\n",
    "    tweet = re.sub(r'\\$\\w*', '', tweet)\n",
    "    # remove old style retweet text \"RT\"\n",
    "    tweet = re.sub(r'^RT[\\s]+', '', tweet)\n",
    "    # remove hyperlinks    \n",
    "    tweet = re.sub(r'https?://[^\\s\\n\\r]+', '', tweet)\n",
    "    # remove hashtags\n",
    "    # only removing the hash # sign from the word\n",
    "    tweet = re.sub(r'#', '', tweet)\n",
    "    # tokenize tweets\n",
    "    tokenizer = TweetTokenizer(preserve_case=False, strip_handles=True,\n",
    "                               reduce_len=True)\n",
    "    tweet_tokens = tokenizer.tokenize(tweet)\n",
    "\n",
    "    tweets_clean = []\n",
    "    for word in tweet_tokens:\n",
    "        if (word not in stopwords_english and  # remove stopwords\n",
    "                word not in string.punctuation):  # remove punctuation\n",
    "            # tweets_clean.append(word)\n",
    "            stem_word = stemmer.stem(word)  # stemming word\n",
    "            tweets_clean.append(stem_word)\n",
    "\n",
    "    return tweets_clean"
   ]
  },
  {
   "cell_type": "code",
   "execution_count": 38,
   "id": "4f00edab",
   "metadata": {},
   "outputs": [
    {
     "name": "stdout",
     "output_type": "stream",
     "text": [
      "\n",
      "\u001b[92m\n",
      "We (@hamiltonpoverty) are calling on Canadian Federal Government ?? to provide #BasicIncome 'Well-being and Stimulus Payments' during current COVID-19 situation. A basic income (even interim) could help keep people healthy, then revive consumer confidence and spending. #CdnPoli https://t.co/wRmkWLhJku\n",
      "\u001b[94m\n",
      "preprocessed tweet:\n",
      "['call', 'canadian', 'feder', 'govern', 'provid', 'basicincom', 'well-b', 'stimulu', 'payment', 'current', 'covid', '19', 'situat', 'basic', 'incom', 'even', 'interim', 'could', 'help', 'keep', 'peopl', 'healthi', 'reviv', 'consum', 'confid', 'spend', 'cdnpoli']\n"
     ]
    }
   ],
   "source": [
    "# choose the same tweet\n",
    "tweet = all_positive_tweets[43] \n",
    "\n",
    "print()\n",
    "print('\\033[92m')\n",
    "print(tweet)\n",
    "print('\\033[94m')\n",
    "\n",
    "# call the imported function\n",
    "tweets_stem = process_tweet(tweet); # Preprocess a given tweet\n",
    "\n",
    "print('preprocessed tweet:')\n",
    "print(tweets_stem) # Print the result"
   ]
  },
  {
   "cell_type": "markdown",
   "id": "96084f3e",
   "metadata": {},
   "source": [
    "# BOW/ Count BOWs\n",
    "Now we can build a BOWs/ Count BOWs, in which we will create matrix of 1s and 0s by using our vocabulary for each tweet!--- check for dimensionality and sparseness of the vector"
   ]
  },
  {
   "cell_type": "code",
   "execution_count": 42,
   "id": "9d9c4389",
   "metadata": {},
   "outputs": [],
   "source": [
    "def build_freqs(tweets, ys):\n",
    "    \"\"\"\n",
    "        tweets: a list of tweets\n",
    "        ys: an m x 1 array with the sentiment label of each tweet\n",
    "            (either 0 or 1)\n",
    "        freqs: a dictionary mapping each (word, sentiment) pair (=key) to its frequency (=value)\n",
    "    \"\"\"\n",
    "    # Convert np array to list since zip needs an iterable.\n",
    "    # The squeeze is necessary or the list ends up with one element.\n",
    "    # Also note that this is just a NOP if ys is already a list.\n",
    "    yslist = np.squeeze(ys).tolist()\n",
    "\n",
    "    # Start with an empty dictionary and populate it by looping over all tweets\n",
    "    # and over all processed words in each tweet.\n",
    "    freqs = {}\n",
    "    for y, tweet in zip(yslist, tweets):\n",
    "        for word in process_tweet(tweet):\n",
    "            pair = (word, y)\n",
    "            if pair in freqs:\n",
    "                freqs[pair] += 1\n",
    "            else:\n",
    "                freqs[pair] = 1\n",
    "\n",
    "    return freqs"
   ]
  },
  {
   "cell_type": "code",
   "execution_count": 40,
   "id": "1ffb7266",
   "metadata": {},
   "outputs": [],
   "source": [
    "training_tweets = positive_train + negative_train\n",
    "# make a numpy array representing labels of the tweets\n",
    "labels = np.append(np.ones((len(positive_train))), np.zeros((len(negative_train))))"
   ]
  },
  {
   "cell_type": "code",
   "execution_count": 43,
   "id": "cad8c923",
   "metadata": {},
   "outputs": [
    {
     "name": "stdout",
     "output_type": "stream",
     "text": [
      "type(freqs) = <class 'dict'>\n",
      "len(freqs) = 8007\n"
     ]
    }
   ],
   "source": [
    "# create frequency dictionary\n",
    "freqs = build_freqs(training_tweets, labels)\n",
    "\n",
    "# check data type\n",
    "print(f'type(freqs) = {type(freqs)}')\n",
    "\n",
    "# check length of the dictionary\n",
    "print(f'len(freqs) = {len(freqs)}')"
   ]
  },
  {
   "cell_type": "code",
   "execution_count": 44,
   "id": "d7bd341c",
   "metadata": {},
   "outputs": [
    {
     "data": {
      "text/plain": [
       "[['void', 1, 0],\n",
       " ['commun', 31, 9],\n",
       " ['spirit', 2, 1],\n",
       " ['stop', 22, 36],\n",
       " ['merri', 0, 0],\n",
       " ['nice', 15, 4],\n",
       " ['good', 96, 25],\n",
       " ['bad', 3, 16],\n",
       " ['sad', 0, 7],\n",
       " ['mad', 4, 10],\n",
       " ['best', 35, 3],\n",
       " ['pretti', 12, 1],\n",
       " [':)', 4, 1],\n",
       " [':(', 3, 0],\n",
       " ['song', 2, 0],\n",
       " ['idea', 11, 6],\n",
       " ['power', 11, 1],\n",
       " ['play', 17, 1]]"
      ]
     },
     "execution_count": 44,
     "metadata": {},
     "output_type": "execute_result"
    }
   ],
   "source": [
    "# select some words to appear in the report.\n",
    "keys = ['void', 'commun', 'spirit', 'stop', 'merri', 'nice', 'good', 'bad', 'sad', 'mad', 'best', 'pretti',\n",
    "        ':)', ':(', 'song', 'idea', 'power', 'play']\n",
    "\n",
    "# list representing our table of word counts.\n",
    "# each element consist of a sublist with this pattern: [<word>, <positive_count>, <negative_count>]\n",
    "data = []\n",
    "\n",
    "# loop through our selected words\n",
    "for word in keys:\n",
    "    \n",
    "    # initialize positive and negative counts\n",
    "    pos = 0\n",
    "    neg = 0\n",
    "    \n",
    "    # retrieve number of positive counts\n",
    "    if (word, 1) in freqs:\n",
    "        pos = freqs[(word, 1)]\n",
    "        \n",
    "    # retrieve number of negative counts\n",
    "    if (word, 0) in freqs:\n",
    "        neg = freqs[(word, 0)]\n",
    "        \n",
    "    # append the word counts to the table\n",
    "    data.append([word, pos, neg])\n",
    "    \n",
    "data"
   ]
  },
  {
   "cell_type": "code",
   "execution_count": 45,
   "id": "3f97480f",
   "metadata": {},
   "outputs": [
    {
     "data": {
      "image/png": "[encoded data removed]",
      "text/plain": [
       "<Figure size 800x800 with 1 Axes>"
      ]
     },
     "metadata": {},
     "output_type": "display_data"
    }
   ],
   "source": [
    "fig, ax = plt.subplots(figsize = (8, 8))\n",
    "\n",
    "# convert positive raw counts to logarithmic scale. we add 1 to avoid log(0)\n",
    "x = np.log([x[1] + 1 for x in data])  \n",
    "\n",
    "# do the same for the negative counts\n",
    "y = np.log([x[2] + 1 for x in data]) \n",
    "\n",
    "# Plot a dot for each pair of words\n",
    "ax.scatter(x, y)  \n",
    "\n",
    "# assign axis labels\n",
    "plt.xlabel(\"Log Positive count\")\n",
    "plt.ylabel(\"Log Negative count\")\n",
    "\n",
    "# Add the word as the label at the same position as you added the points just before\n",
    "for i in range(0, len(data)):\n",
    "    ax.annotate(data[i][0], (x[i], y[i]), fontsize=12)\n",
    "\n",
    "ax.plot([0, 9], [0, 9], color = 'brown') # Plot the red line that divides the 2 areas.\n",
    "plt.show()"
   ]
  },
  {
   "cell_type": "code",
   "execution_count": 46,
   "id": "c8fd8e2d",
   "metadata": {},
   "outputs": [],
   "source": [
    "def extract_features(tweet, freqs):\n",
    "    '''\n",
    "        tweet: a list of words for one tweet\n",
    "        freqs: a dictionary corresponding to the frequencies of each tuple (word, label)\n",
    "        x: a feature vector of dimension (1,3)\n",
    "    '''\n",
    "    # process_tweet tokenizes, stems, and removes stopwords\n",
    "    word_l = process_tweet(tweet)\n",
    "    # 3 elements in the form of a 1 x 3 vector\n",
    "    x = np.zeros((1, 3)) \n",
    "    \n",
    "    #bias term is set to 1\n",
    "    x[0,0] = 1 \n",
    "        \n",
    "    # loop through each word in the list of words\n",
    "    for word in word_l:\n",
    "        \n",
    "        # increment the word count for the positive label 1\n",
    "        x[0,1] += freqs.get((word, 1.0),0)\n",
    "        \n",
    "        # increment the word count for the negative label 0\n",
    "        x[0,2] += freqs.get((word, 0.0),0)\n",
    "        \n",
    "    assert(x.shape == (1, 3))\n",
    "    return x"
   ]
  },
  {
   "cell_type": "markdown",
   "id": "da737ffd",
   "metadata": {},
   "source": [
    "# Extract feature for a tweet"
   ]
  },
  {
   "cell_type": "code",
   "execution_count": 47,
   "id": "1a93abf2",
   "metadata": {},
   "outputs": [
    {
     "name": "stdout",
     "output_type": "stream",
     "text": [
      "[[1.000e+00 2.418e+03 1.642e+03]]\n"
     ]
    }
   ],
   "source": [
    "train_x = training_tweets\n",
    "tmp1 = extract_features(train_x[0], freqs)\n",
    "print(tmp1)"
   ]
  },
  {
   "cell_type": "code",
   "execution_count": 48,
   "id": "ec4017a2",
   "metadata": {},
   "outputs": [
    {
     "name": "stdout",
     "output_type": "stream",
     "text": [
      "[[ 1. 39.  3.]]\n"
     ]
    }
   ],
   "source": [
    "tmp2 = extract_features('This batch is the best batch', freqs)\n",
    "print(tmp2)"
   ]
  },
  {
   "cell_type": "code",
   "execution_count": 49,
   "id": "68e909a4",
   "metadata": {},
   "outputs": [],
   "source": [
    "# collect the features 'x' and stack them into a matrix 'X'\n",
    "X = np.zeros((len(train_x), 3))\n",
    "for i in range(len(train_x)):\n",
    "    X[i, :]= extract_features(train_x[i], freqs)\n",
    "\n",
    "# training labels corresponding to X\n",
    "train_y = np.append(np.ones((len(positive_train), 1)), np.zeros((len(negative_train), 1)), axis=0)\n",
    "Y = np.ravel(train_y,order='C')"
   ]
  },
  {
   "cell_type": "code",
   "execution_count": null,
   "id": "a70a260a",
   "metadata": {},
   "outputs": [],
   "source": []
  },
  {
   "cell_type": "markdown",
   "id": "ee81050d",
   "metadata": {},
   "source": [
    "# Most basic- Logistic regression"
   ]
  },
  {
   "cell_type": "code",
   "execution_count": 50,
   "id": "b9efde9c",
   "metadata": {},
   "outputs": [
    {
     "name": "stdout",
     "output_type": "stream",
     "text": [
      "Training Accuracy:  0.703963873557451\n"
     ]
    }
   ],
   "source": [
    "from sklearn.linear_model import LogisticRegression\n",
    "clf = LogisticRegression().fit(X, Y)\n",
    "\n",
    "print(\"Training Accuracy: \",clf.score(X, Y))"
   ]
  },
  {
   "cell_type": "code",
   "execution_count": 51,
   "id": "61ef18ae",
   "metadata": {},
   "outputs": [
    {
     "name": "stdout",
     "output_type": "stream",
     "text": [
      "Testing Accuracy:  0.648\n"
     ]
    }
   ],
   "source": [
    "# Testing\n",
    "testing_tweets = positive_test + negative_test\n",
    "\n",
    "test_X = np.zeros((len(testing_tweets), 3))\n",
    "for i in range(len(testing_tweets)):\n",
    "    test_X[i, :]= extract_features(testing_tweets[i], freqs)\n",
    "\n",
    "# training labels corresponding to X\n",
    "test_y = np.append(np.ones((len(positive_test), 1)), np.zeros((len(negative_test), 1)), axis=0)\n",
    "test_Y = np.ravel(test_y,order='C')\n",
    "\n",
    "print(\"Testing Accuracy: \",clf.score(test_X, test_Y))"
   ]
  },
  {
   "cell_type": "code",
   "execution_count": 52,
   "id": "6fcbcc83",
   "metadata": {},
   "outputs": [
    {
     "name": "stdout",
     "output_type": "stream",
     "text": [
      "\u001b[92mThank God coronovirus is over -> 1.000000\n",
      "\u001b[91mThis is seriously ridiculous. Stop hoarding -> 1.000000\n",
      "\u001b[92mGovernment efforts are great. -> 1.000000\n",
      "\u001b[93mNonsense -> 1.000000\n",
      "\u001b[91mPanic-buying is pushing up prices.#coronavirus -> 1.000000\n",
      "\u001b[92mTHANK YOU to make hand sanitizer in distillery amid outbreak -> 1.000000\n"
     ]
    }
   ],
   "source": [
    "def predict_custom_tweet(tweet, freqs):\n",
    "    x = extract_features(tweet,freqs)\n",
    "    y_pred = clf.predict(x)\n",
    "    return y_pred\n",
    "\n",
    "# test your function\n",
    "list_of_tweets = ['\\033[92m'+'Thank God coronovirus is over', \n",
    "                  '\\033[91m'+'This is seriously ridiculous. Stop hoarding', \n",
    "                  '\\033[92m'+'Government efforts are great.', \n",
    "                  '\\033[93m'+'Nonsense', #anomaly in classification\n",
    "                  '\\033[91m'+'Panic-buying is pushing up prices.#coronavirus', \n",
    "                  '\\033[92m'+'THANK YOU to make hand sanitizer in distillery amid outbreak']\n",
    "\n",
    "for tweet in list_of_tweets:\n",
    "    print( '%s -> %f' % (tweet, predict_custom_tweet(tweet, freqs)))"
   ]
  },
  {
   "cell_type": "code",
   "execution_count": null,
   "id": "da8ea1d9",
   "metadata": {},
   "outputs": [],
   "source": []
  }
 ],
 "metadata": {
  "kernelspec": {
   "display_name": "Python 3 (ipykernel)",
   "language": "python",
   "name": "python3"
  },
  "language_info": {
   "codemirror_mode": {
    "name": "ipython",
    "version": 3
   },
   "file_extension": ".py",
   "mimetype": "text/x-python",
   "name": "python",
   "nbconvert_exporter": "python",
   "pygments_lexer": "ipython3",
   "version": "3.11.4"
  }
 },
 "nbformat": 4,
 "nbformat_minor": 5
}
